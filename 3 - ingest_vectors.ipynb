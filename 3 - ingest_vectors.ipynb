{
 "cells": [
  {
   "attachments": {},
   "cell_type": "markdown",
   "metadata": {},
   "source": [
    "## Ingest Vectors to Index"
   ]
  },
  {
   "attachments": {},
   "cell_type": "markdown",
   "metadata": {},
   "source": [
    "#### Set environment variables"
   ]
  },
  {
   "cell_type": "code",
   "execution_count": 1,
   "metadata": {},
   "outputs": [],
   "source": [
    "import os\n",
    "from dotenv import load_dotenv\n",
    "\n",
    "load_dotenv()\n",
    "\n",
    "ai_search_endpoint  = os.getenv(\"AI_SEARCH_ENDPOINT\")\n",
    "if ai_search_endpoint is None or ai_search_endpoint == \"\":\n",
    "    print(\"AI_SEARCH_ENDPOINT environment variable not set.\")\n",
    "    exit(1)\n",
    "\n",
    "ai_search_api_version  = os.getenv(\"AI_SEARCH_API_VERSION\")\n",
    "if ai_search_api_version is None or ai_search_api_version == \"\":\n",
    "    print(\"AI_SEARCH_API_VERSION environment variable not set.\")\n",
    "    exit(1)\n",
    "\n",
    "ai_search_key  = os.getenv(\"AI_SEARCH_KEY\")\n",
    "if ai_search_key is None or ai_search_key == \"\":\n",
    "    print(\"AI_SEARCH_KEY environment variable not set.\")\n",
    "    exit(1)\n",
    "\n",
    "index_prefix = os.getenv(\"INDEX_PREFIX\")\n",
    "if index_prefix is None or index_prefix == \"\":\n",
    "    print(\"INDEX_PREFIX environment variable not set.\")\n",
    "    exit(1)\n",
    "\n",
    "grocery_index = f\"{index_prefix}_grocery\"\n",
    "grocery_image_index = f\"{index_prefix}_grocery_image\""
   ]
  },
  {
   "cell_type": "markdown",
   "metadata": {},
   "source": [
    "#### Ingest grocery vector"
   ]
  },
  {
   "cell_type": "code",
   "execution_count": 2,
   "metadata": {},
   "outputs": [],
   "source": [
    "import requests\n",
    "import json\n",
    "import pandas as pd\n",
    "from azure.search.documents import SearchClient  \n",
    "from azure.core.credentials import AzureKeyCredential\n",
    "\n",
    "text_df = pd.read_json('data/grocery_embeddings.json') \n",
    "search_client = SearchClient(ai_search_endpoint, grocery_index, AzureKeyCredential(ai_search_key))\n",
    "\n",
    "batch_size = 10\n",
    "total_records = text_df.shape[0]\n",
    "fields = text_df.columns.to_numpy()\n",
    "text_df['id'] = text_df['id'].astype(str)\n",
    "\n",
    "records = []\n",
    "\n",
    "for index, row in text_df.iterrows():\n",
    "    record = {}\n",
    "    for field in fields:\n",
    "                record[field] = row[field]\n",
    "\n",
    "    records.append(\n",
    "        record\n",
    "    )\n",
    "\n",
    "    if index % batch_size == 0 or (index+1 == total_records):\n",
    "        try:\n",
    "            result = search_client.upload_documents(documents=records)\n",
    "            records = []\n",
    "        except:\n",
    "              print(records)"
   ]
  },
  {
   "cell_type": "markdown",
   "metadata": {},
   "source": [
    "#### Ingest grocery image vector"
   ]
  },
  {
   "cell_type": "code",
   "execution_count": 3,
   "metadata": {},
   "outputs": [],
   "source": [
    "import requests\n",
    "import json\n",
    "import pandas as pd\n",
    "from azure.search.documents import SearchClient  \n",
    "from azure.core.credentials import AzureKeyCredential\n",
    "\n",
    "text_df = pd.read_json('data/images_embeddings.json') \n",
    "search_client = SearchClient(ai_search_endpoint, grocery_image_index, AzureKeyCredential(ai_search_key))\n",
    "\n",
    "batch_size = 10\n",
    "total_records = text_df.shape[0]\n",
    "fields = text_df.columns.to_numpy()\n",
    "text_df['id'] = text_df['id'].astype(str)\n",
    "\n",
    "records = []\n",
    "\n",
    "for index, row in text_df.iterrows():\n",
    "    record = {}\n",
    "    for field in fields:\n",
    "                record[field] = row[field]\n",
    "\n",
    "    records.append(\n",
    "        record\n",
    "    )\n",
    "\n",
    "    if index % batch_size == 0 or (index+1 == total_records):\n",
    "        try:\n",
    "            result = search_client.upload_documents(documents=records)\n",
    "            records = []\n",
    "        except:\n",
    "              print(records)"
   ]
  }
 ],
 "metadata": {
  "kernelspec": {
   "display_name": "Python 3",
   "language": "python",
   "name": "python3"
  },
  "language_info": {
   "codemirror_mode": {
    "name": "ipython",
    "version": 3
   },
   "file_extension": ".py",
   "mimetype": "text/x-python",
   "name": "python",
   "nbconvert_exporter": "python",
   "pygments_lexer": "ipython3",
   "version": "3.10.13"
  },
  "orig_nbformat": 4
 },
 "nbformat": 4,
 "nbformat_minor": 2
}
